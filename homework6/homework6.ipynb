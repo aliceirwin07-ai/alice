{
 "cells": [
  {
   "cell_type": "code",
   "execution_count": 2,
   "id": "a6bde544-5f0a-450b-b434-629a361485ed",
   "metadata": {},
   "outputs": [],
   "source": [
    "import numpy as np"
   ]
  },
  {
   "cell_type": "code",
   "execution_count": 133,
   "id": "92cb872e-3220-482e-a5a4-b7fa5835d655",
   "metadata": {},
   "outputs": [
    {
     "name": "stdout",
     "output_type": "stream",
     "text": [
      "[ 80 108  36  48 124  68  16 200 156 140] 24.4 23.5 13.828955130450023 6 7 4 50 [27 31 50 39 35]\n"
     ]
    }
   ],
   "source": [
    "list = [20, 27, 9, 12, 31, 17, 4, 50, 39, 35]\n",
    "arr = np.array(list)\n",
    "mean = np.mean(arr)\n",
    "median = np.median(arr)\n",
    "stdev = np.std(arr)\n",
    "argmin = np.argmin(arr)\n",
    "argmax = np.argmax(arr)\n",
    "min = np.min(arr)\n",
    "max = np.max(arr)\n",
    "big20 = arr[arr>20]\n",
    "print(arr*4,mean,median,stdev,argmin,argmax,min,max,big20)"
   ]
  },
  {
   "cell_type": "code",
   "execution_count": 69,
   "id": "b8270d3c-92c6-43d2-bc9f-b96e2812dcd8",
   "metadata": {},
   "outputs": [
    {
     "name": "stdout",
     "output_type": "stream",
     "text": [
      "(3, 4) [17 14 19] [ 8 21 14  3] [[10 24 34 18]\n",
      " [16 42 28  6]\n",
      " [12 26 38 22]] [ 6.33333333 15.33333333 16.66666667  7.66666667] 11.5 [17 21 19] [ 5 12 14  3] [ 5 12 17  9  8 21 14  3  6 13 19 11] 5 7 (array([0, 0, 0, 0, 1, 1, 1, 1, 2, 2, 2, 2]), array([0, 1, 2, 3, 0, 1, 2, 3, 0, 1, 2, 3])) [17 21 19] [[ 5  9 12 17]\n",
      " [ 3  8 14 21]\n",
      " [ 6 11 13 19]]\n"
     ]
    }
   ],
   "source": [
    "matrix = np.array([\n",
    "[5, 12, 17, 9],\n",
    "[8, 21, 14, 3],\n",
    "[6, 13, 19, 11]\n",
    "])\n",
    "shape = matrix.shape\n",
    "column3 = matrix[:,2]\n",
    "row2 = matrix[1,:]\n",
    "matrix2x = matrix*2\n",
    "colmean = np.mean(matrix, axis=0)\n",
    "matrixmean = np.mean(matrix)\n",
    "maxrow = np.max(matrix,axis = 1)\n",
    "mincol = np.min(matrix,axis = 0)\n",
    "flatmatrix = matrix.flatten()#it turned it into a 1d array\n",
    "flarargmax = np.argmax(flatmatrix)\n",
    "flatargmin = np.argmin(flatmatrix)\n",
    "coords = np.unravel_index(np.arange(flatmatrix.size), matrix.shape)\n",
    "matrix15 = matrix[matrix > 15]\n",
    "sortedmatrix = np.sort(matrix)\n",
    "print(shape,column3,row2,matrix2x,colmean,matrixmean,maxrow,mincol,flatmatrix,flarargmax,flatargmin,coords,matrix15,sortedmatrix)"
   ]
  },
  {
   "cell_type": "code",
   "execution_count": 92,
   "id": "ffd32744-78d3-401b-80fb-8d73114211eb",
   "metadata": {},
   "outputs": [
    {
     "name": "stdout",
     "output_type": "stream",
     "text": [
      "[array([2, 3, 5]), array([11, 13, 17]), array([ 7, 10, 13])]\n"
     ]
    },
    {
     "data": {
      "text/plain": [
       "[array([2, 3, 5]), array([11, 13, 17]), array([ 7, 10, 13])]"
      ]
     },
     "execution_count": 92,
     "metadata": {},
     "output_type": "execute_result"
    }
   ],
   "source": [
    "arr = np.array([\n",
    "[2, 3, 5],\n",
    "[14, 6, 8],\n",
    "[11, 13, 17],\n",
    "[7, 10, 13]\n",
    "])\n",
    "def rowprime(list):\n",
    "    def is_prime(n):\n",
    "        if n < 2:\n",
    "            return False\n",
    "        for i in range(2, int(n**0.5) + 1):\n",
    "            if n % i == 0:\n",
    "                return False\n",
    "        return True\n",
    "    for index in list:\n",
    "        if is_prime(index):\n",
    "            return True\n",
    "\n",
    "def primeinrow(arr):\n",
    "    primerows = []\n",
    "    for row in arr:\n",
    "        if rowprime(row):\n",
    "            primerows.append(row)\n",
    "    print(primerows)\n",
    "    return primerows"
   ]
  },
  {
   "cell_type": "code",
   "execution_count": 123,
   "id": "0501fd74-4407-4810-bd13-2972983ee9ed",
   "metadata": {},
   "outputs": [
    {
     "data": {
      "text/plain": [
       "array([[1., 0., 1., 0., 1., 0., 1., 0.],\n",
       "       [0., 1., 0., 1., 0., 1., 0., 1.],\n",
       "       [1., 0., 1., 0., 1., 0., 1., 0.],\n",
       "       [0., 1., 0., 1., 0., 1., 0., 1.],\n",
       "       [1., 0., 1., 0., 1., 0., 1., 0.],\n",
       "       [0., 1., 0., 1., 0., 1., 0., 1.],\n",
       "       [1., 0., 1., 0., 1., 0., 1., 0.],\n",
       "       [0., 1., 0., 1., 0., 1., 0., 1.]])"
      ]
     },
     "execution_count": 123,
     "metadata": {},
     "output_type": "execute_result"
    }
   ],
   "source": [
    "def checkerboard():\n",
    "    board = np.zeros((8,8))\n",
    "    for i in range(len(board)):\n",
    "        for j in range(len(board[i])):\n",
    "            if (i%2==0 and j%2==0):\n",
    "                board[i][j]=1\n",
    "            if (i%2==1 and j%2==1):\n",
    "                board[i][j]=1   \n",
    "    return board\n",
    "\n",
    "checkerboard()"
   ]
  },
  {
   "cell_type": "code",
   "execution_count": 184,
   "id": "90afdd1f-b3dd-4637-a713-02c6b4a013a6",
   "metadata": {},
   "outputs": [
    {
     "data": {
      "text/plain": [
       "'p r i n t'"
      ]
     },
     "execution_count": 184,
     "metadata": {},
     "output_type": "execute_result"
    }
   ],
   "source": [
    "from builtins import list\n",
    "def expand(str,n):\n",
    "    strlist = list(str)\n",
    "    expandedlist = []\n",
    "    for i in range(len(strlist)):\n",
    "        expandedlist.append(strlist[i])\n",
    "        if i < len(strlist)-1:\n",
    "            for j in range(n):\n",
    "                expandedlist.append(\" \")\n",
    "    expandedlist = \"\".join(expandedlist)\n",
    "    return expandedlist\n",
    "expand(\"print\",1)"
   ]
  },
  {
   "cell_type": "code",
   "execution_count": 209,
   "id": "fd7f08b3-bfee-4d68-9c2a-ffadee9436ed",
   "metadata": {},
   "outputs": [
    {
     "data": {
      "text/plain": [
       "array([1789, 1678, 1654, 1784, 1756])"
      ]
     },
     "execution_count": 209,
     "metadata": {},
     "output_type": "execute_result"
    }
   ],
   "source": [
    "stars = np.array([[1123, 1456, 1789, 1324, 1876],\n",
    "[1567, 1987, 1678, 1405, 1589],\n",
    "[1345, 1654, 1523, 1109, 1923],\n",
    "[1298, 1890, 1367, 1784, 1432],\n",
    "[1823, 1756, 1489, 1672, 1550]])\n",
    "\n",
    "def secondlargerows(array):\n",
    "    finalarr = []\n",
    "    for row in array:\n",
    "        row=np.sort(row,axis=0)\n",
    "        row=np.delete(row,-1)\n",
    "        finalarr.append(row[-1])\n",
    "    return np.array(finalarr)\n",
    "secondlargerows(stars)"
   ]
  }
 ],
 "metadata": {
  "kernelspec": {
   "display_name": "Python [conda env:base] *",
   "language": "python",
   "name": "conda-base-py"
  },
  "language_info": {
   "codemirror_mode": {
    "name": "ipython",
    "version": 3
   },
   "file_extension": ".py",
   "mimetype": "text/x-python",
   "name": "python",
   "nbconvert_exporter": "python",
   "pygments_lexer": "ipython3",
   "version": "3.13.5"
  }
 },
 "nbformat": 4,
 "nbformat_minor": 5
}
