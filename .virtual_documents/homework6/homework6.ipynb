import numpy as np


list = [20, 27, 9, 12, 31, 17, 4, 50, 39, 35]
arr = np.array(list)
mean = np.mean(arr)
median = np.median(arr)
stdev = np.std(arr)
argmin = np.argmin(arr)
argmax = np.argmax(arr)
min = np.min(arr)
max = np.max(arr)
big20 = arr[arr>20]
print(arr*4,mean,median,stdev,argmin,argmax,min,max,big20)


matrix = np.array([
[5, 12, 17, 9],
[8, 21, 14, 3],
[6, 13, 19, 11]
])
shape = matrix.shape
column3 = matrix[:,2]
row2 = matrix[1,:]
matrix2x = matrix*2
colmean = np.mean(matrix, axis=0)
matrixmean = np.mean(matrix)
maxrow = np.max(matrix,axis = 1)
mincol = np.min(matrix,axis = 0)
flatmatrix = matrix.flatten()#it turned it into a 1d array
flarargmax = np.argmax(flatmatrix)
flatargmin = np.argmin(flatmatrix)
coords = np.unravel_index(np.arange(flatmatrix.size), matrix.shape)
matrix15 = matrix[matrix > 15]
sortedmatrix = np.sort(matrix)
print(shape,column3,row2,matrix2x,colmean,matrixmean,maxrow,mincol,flatmatrix,flarargmax,flatargmin,coords,matrix15,sortedmatrix)


arr = np.array([
[2, 3, 5],
[14, 6, 8],
[11, 13, 17],
[7, 10, 13]
])
def rowprime(list):
    def is_prime(n):
        if n < 2:
            return False
        for i in range(2, int(n**0.5) + 1):
            if n % i == 0:
                return False
        return True
    for index in list:
        if is_prime(index):
            return True

def primeinrow(arr):
    primerows = []
    for row in arr:
        if rowprime(row):
            primerows.append(row)
    print(primerows)
    return primerows


def checkerboard():
    board = np.zeros((8,8))
    for i in range(len(board)):
        for j in range(len(board[i])):
            if (i%2==0 and j%2==0):
                board[i][j]=1
            if (i%2==1 and j%2==1):
                board[i][j]=1   
    return board

checkerboard()


from builtins import list
def expand(str,n):
    strlist = list(str)
    expandedlist = []
    for i in range(len(strlist)):
        expandedlist.append(strlist[i])
        if i < len(strlist)-1:
            for j in range(n):
                expandedlist.append(" ")
    expandedlist = "".join(expandedlist)
    return expandedlist
expand("print",1)


stars = np.array([[1123, 1456, 1789, 1324, 1876],
[1567, 1987, 1678, 1405, 1589],
[1345, 1654, 1523, 1109, 1923],
[1298, 1890, 1367, 1784, 1432],
[1823, 1756, 1489, 1672, 1550]])

def secondlargerows(array):
    finalarr = []
    for row in array:
        row=np.sort(row,axis=0)
        row=np.delete(row,-1)
        finalarr.append(row[-1])
    return np.array(finalarr)
secondlargerows(stars)
