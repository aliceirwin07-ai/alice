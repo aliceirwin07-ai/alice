import numpy as np


list = [20, 27, 9, 12, 31, 17, 4, 50, 39, 35]
arr = np.array(list)
mean = np.mean(arr)
median = np.median(arr)
stdev = np.std(arr)
argmin = np.argmin(arr)
argmax = np.argmax(arr)
min = np.min(arr)
max = np.max(arr)
big20 = arr[arr>20]
print(arr*4,mean,median,stdev,argmin,argmax,min,max,big20)


matrix = np.array([
[5, 12, 17, 9],
[8, 21, 14, 3],
[6, 13, 19, 11]
])
shape = np.array(matrix).shape
column3 = matrix[:,2]
row2 = matrix[1,:]
matrix2x = matrix*2
colmean = np.mean(matrix, axis=0)
matrixmean = np.mean(matrix)
maxrow = np.max(matrix,axis = 1)
mincol = np.min(matrix,axis = 0)
print(shape,column3,row2,matrix2x,colmean,matrixmean,maxrow,mincol)
print()



